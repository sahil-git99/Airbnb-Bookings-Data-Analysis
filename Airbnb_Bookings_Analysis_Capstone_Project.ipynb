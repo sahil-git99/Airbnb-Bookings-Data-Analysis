{
  "nbformat": 4,
  "nbformat_minor": 0,
  "metadata": {
    "kernelspec": {
      "display_name": "Python 3",
      "language": "python",
      "name": "python3"
    },
    "language_info": {
      "codemirror_mode": {
        "name": "ipython",
        "version": 3
      },
      "file_extension": ".py",
      "mimetype": "text/x-python",
      "name": "python",
      "nbconvert_exporter": "python",
      "pygments_lexer": "ipython3",
      "version": "3.6.6"
    },
    "colab": {
      "name": "Airbnb Bookings Analysis - Capstone Project.ipynb",
      "provenance": [],
      "include_colab_link": true
    }
  },
  "cells": [
    {
      "cell_type": "markdown",
      "metadata": {
        "id": "view-in-github",
        "colab_type": "text"
      },
      "source": [
        "<a href=\"https://colab.research.google.com/github/mohd-sahil/Airbnb-Bookings-Analysis-EDA/blob/main/Airbnb_Bookings_Analysis_Capstone_Project.ipynb\" target=\"_parent\"><img src=\"https://colab.research.google.com/assets/colab-badge.svg\" alt=\"Open In Colab\"/></a>"
      ]
    },
    {
      "cell_type": "markdown",
      "metadata": {
        "id": "Y06xIdG26kRF"
      },
      "source": [
        "## <b> Since 2008, guests and hosts have used Airbnb to expand on traveling possibilities and present a more unique, personalized way of experiencing the world. Today, Airbnb became one of a kind service that is used and recognized by the whole world. Data analysis on millions of listings provided through Airbnb is a crucial factor for the company. These millions of listings generate a lot of data - data that can be analyzed and used for security, business decisions, understanding of customers' and providers' (hosts) behavior and performance on the platform, guiding marketing initiatives, implementation of innovative additional services and much more. </b>\n",
        "\n",
        "## <b>This dataset has around 49,000 observations in it with 16 columns and it is a mix between categorical and numeric values. </b>\n",
        "\n",
        "## <b> Explore and analyze the data to discover key understandings (not limited to these) such as : \n",
        "* What can we learn about different hosts and areas?\n",
        "* What can we learn from predictions? (ex: locations, prices, reviews, etc)\n",
        "* Which hosts are the busiest and why?\n",
        "* Is there any noticeable difference of traffic among different areas and what could be the reason for it? </b>"
      ]
    },
    {
      "cell_type": "code",
      "metadata": {
        "id": "dByMsuzT8Tnw"
      },
      "source": [
        "import pandas as pd\n",
        "import numpy as np\n",
        "\n",
        "import matplotlib.pyplot as plt\n",
        "%matplotlib inline\n",
        "\n",
        "import seaborn as sns"
      ],
      "execution_count": 1,
      "outputs": []
    },
    {
      "cell_type": "code",
      "source": [
        "from google.colab import drive\n",
        "drive.mount('/content/drive')"
      ],
      "metadata": {
        "colab": {
          "base_uri": "https://localhost:8080/"
        },
        "id": "IkwOGCfD896y",
        "outputId": "06366ff3-0517-4006-d95f-da5e06e6c878"
      },
      "execution_count": 2,
      "outputs": [
        {
          "output_type": "stream",
          "name": "stdout",
          "text": [
            "Mounted at /content/drive\n"
          ]
        }
      ]
    },
    {
      "cell_type": "code",
      "source": [
        "dataset = \"/content/drive/MyDrive/Data Science - Capstone Projects/Airbnb Bookings Analysis - Mohd Sahil/Airbnb NYC 2019.csv\"\n",
        "\n",
        "df = pd.read_csv(dataset)"
      ],
      "metadata": {
        "id": "2CfZ4KSI9FU0"
      },
      "execution_count": 3,
      "outputs": []
    },
    {
      "cell_type": "code",
      "source": [
        "df.head(5)"
      ],
      "metadata": {
        "id": "UxXOPLu3-N84",
        "colab": {
          "base_uri": "https://localhost:8080/",
          "height": 461
        },
        "outputId": "60d7fc5a-cb9e-4468-c830-521c0ce263f0"
      },
      "execution_count": 4,
      "outputs": [
        {
          "output_type": "execute_result",
          "data": {
            "text/html": [
              "\n",
              "  <div id=\"df-11b80f0f-1da4-4b79-9b3a-b5223f7afb43\">\n",
              "    <div class=\"colab-df-container\">\n",
              "      <div>\n",
              "<style scoped>\n",
              "    .dataframe tbody tr th:only-of-type {\n",
              "        vertical-align: middle;\n",
              "    }\n",
              "\n",
              "    .dataframe tbody tr th {\n",
              "        vertical-align: top;\n",
              "    }\n",
              "\n",
              "    .dataframe thead th {\n",
              "        text-align: right;\n",
              "    }\n",
              "</style>\n",
              "<table border=\"1\" class=\"dataframe\">\n",
              "  <thead>\n",
              "    <tr style=\"text-align: right;\">\n",
              "      <th></th>\n",
              "      <th>id</th>\n",
              "      <th>name</th>\n",
              "      <th>host_id</th>\n",
              "      <th>host_name</th>\n",
              "      <th>neighbourhood_group</th>\n",
              "      <th>neighbourhood</th>\n",
              "      <th>latitude</th>\n",
              "      <th>longitude</th>\n",
              "      <th>room_type</th>\n",
              "      <th>price</th>\n",
              "      <th>minimum_nights</th>\n",
              "      <th>number_of_reviews</th>\n",
              "      <th>last_review</th>\n",
              "      <th>reviews_per_month</th>\n",
              "      <th>calculated_host_listings_count</th>\n",
              "      <th>availability_365</th>\n",
              "    </tr>\n",
              "  </thead>\n",
              "  <tbody>\n",
              "    <tr>\n",
              "      <th>0</th>\n",
              "      <td>2539</td>\n",
              "      <td>Clean &amp; quiet apt home by the park</td>\n",
              "      <td>2787</td>\n",
              "      <td>John</td>\n",
              "      <td>Brooklyn</td>\n",
              "      <td>Kensington</td>\n",
              "      <td>40.64749</td>\n",
              "      <td>-73.97237</td>\n",
              "      <td>Private room</td>\n",
              "      <td>149</td>\n",
              "      <td>1</td>\n",
              "      <td>9</td>\n",
              "      <td>2018-10-19</td>\n",
              "      <td>0.21</td>\n",
              "      <td>6</td>\n",
              "      <td>365</td>\n",
              "    </tr>\n",
              "    <tr>\n",
              "      <th>1</th>\n",
              "      <td>2595</td>\n",
              "      <td>Skylit Midtown Castle</td>\n",
              "      <td>2845</td>\n",
              "      <td>Jennifer</td>\n",
              "      <td>Manhattan</td>\n",
              "      <td>Midtown</td>\n",
              "      <td>40.75362</td>\n",
              "      <td>-73.98377</td>\n",
              "      <td>Entire home/apt</td>\n",
              "      <td>225</td>\n",
              "      <td>1</td>\n",
              "      <td>45</td>\n",
              "      <td>2019-05-21</td>\n",
              "      <td>0.38</td>\n",
              "      <td>2</td>\n",
              "      <td>355</td>\n",
              "    </tr>\n",
              "    <tr>\n",
              "      <th>2</th>\n",
              "      <td>3647</td>\n",
              "      <td>THE VILLAGE OF HARLEM....NEW YORK !</td>\n",
              "      <td>4632</td>\n",
              "      <td>Elisabeth</td>\n",
              "      <td>Manhattan</td>\n",
              "      <td>Harlem</td>\n",
              "      <td>40.80902</td>\n",
              "      <td>-73.94190</td>\n",
              "      <td>Private room</td>\n",
              "      <td>150</td>\n",
              "      <td>3</td>\n",
              "      <td>0</td>\n",
              "      <td>NaN</td>\n",
              "      <td>NaN</td>\n",
              "      <td>1</td>\n",
              "      <td>365</td>\n",
              "    </tr>\n",
              "    <tr>\n",
              "      <th>3</th>\n",
              "      <td>3831</td>\n",
              "      <td>Cozy Entire Floor of Brownstone</td>\n",
              "      <td>4869</td>\n",
              "      <td>LisaRoxanne</td>\n",
              "      <td>Brooklyn</td>\n",
              "      <td>Clinton Hill</td>\n",
              "      <td>40.68514</td>\n",
              "      <td>-73.95976</td>\n",
              "      <td>Entire home/apt</td>\n",
              "      <td>89</td>\n",
              "      <td>1</td>\n",
              "      <td>270</td>\n",
              "      <td>2019-07-05</td>\n",
              "      <td>4.64</td>\n",
              "      <td>1</td>\n",
              "      <td>194</td>\n",
              "    </tr>\n",
              "    <tr>\n",
              "      <th>4</th>\n",
              "      <td>5022</td>\n",
              "      <td>Entire Apt: Spacious Studio/Loft by central park</td>\n",
              "      <td>7192</td>\n",
              "      <td>Laura</td>\n",
              "      <td>Manhattan</td>\n",
              "      <td>East Harlem</td>\n",
              "      <td>40.79851</td>\n",
              "      <td>-73.94399</td>\n",
              "      <td>Entire home/apt</td>\n",
              "      <td>80</td>\n",
              "      <td>10</td>\n",
              "      <td>9</td>\n",
              "      <td>2018-11-19</td>\n",
              "      <td>0.10</td>\n",
              "      <td>1</td>\n",
              "      <td>0</td>\n",
              "    </tr>\n",
              "  </tbody>\n",
              "</table>\n",
              "</div>\n",
              "      <button class=\"colab-df-convert\" onclick=\"convertToInteractive('df-11b80f0f-1da4-4b79-9b3a-b5223f7afb43')\"\n",
              "              title=\"Convert this dataframe to an interactive table.\"\n",
              "              style=\"display:none;\">\n",
              "        \n",
              "  <svg xmlns=\"http://www.w3.org/2000/svg\" height=\"24px\"viewBox=\"0 0 24 24\"\n",
              "       width=\"24px\">\n",
              "    <path d=\"M0 0h24v24H0V0z\" fill=\"none\"/>\n",
              "    <path d=\"M18.56 5.44l.94 2.06.94-2.06 2.06-.94-2.06-.94-.94-2.06-.94 2.06-2.06.94zm-11 1L8.5 8.5l.94-2.06 2.06-.94-2.06-.94L8.5 2.5l-.94 2.06-2.06.94zm10 10l.94 2.06.94-2.06 2.06-.94-2.06-.94-.94-2.06-.94 2.06-2.06.94z\"/><path d=\"M17.41 7.96l-1.37-1.37c-.4-.4-.92-.59-1.43-.59-.52 0-1.04.2-1.43.59L10.3 9.45l-7.72 7.72c-.78.78-.78 2.05 0 2.83L4 21.41c.39.39.9.59 1.41.59.51 0 1.02-.2 1.41-.59l7.78-7.78 2.81-2.81c.8-.78.8-2.07 0-2.86zM5.41 20L4 18.59l7.72-7.72 1.47 1.35L5.41 20z\"/>\n",
              "  </svg>\n",
              "      </button>\n",
              "      \n",
              "  <style>\n",
              "    .colab-df-container {\n",
              "      display:flex;\n",
              "      flex-wrap:wrap;\n",
              "      gap: 12px;\n",
              "    }\n",
              "\n",
              "    .colab-df-convert {\n",
              "      background-color: #E8F0FE;\n",
              "      border: none;\n",
              "      border-radius: 50%;\n",
              "      cursor: pointer;\n",
              "      display: none;\n",
              "      fill: #1967D2;\n",
              "      height: 32px;\n",
              "      padding: 0 0 0 0;\n",
              "      width: 32px;\n",
              "    }\n",
              "\n",
              "    .colab-df-convert:hover {\n",
              "      background-color: #E2EBFA;\n",
              "      box-shadow: 0px 1px 2px rgba(60, 64, 67, 0.3), 0px 1px 3px 1px rgba(60, 64, 67, 0.15);\n",
              "      fill: #174EA6;\n",
              "    }\n",
              "\n",
              "    [theme=dark] .colab-df-convert {\n",
              "      background-color: #3B4455;\n",
              "      fill: #D2E3FC;\n",
              "    }\n",
              "\n",
              "    [theme=dark] .colab-df-convert:hover {\n",
              "      background-color: #434B5C;\n",
              "      box-shadow: 0px 1px 3px 1px rgba(0, 0, 0, 0.15);\n",
              "      filter: drop-shadow(0px 1px 2px rgba(0, 0, 0, 0.3));\n",
              "      fill: #FFFFFF;\n",
              "    }\n",
              "  </style>\n",
              "\n",
              "      <script>\n",
              "        const buttonEl =\n",
              "          document.querySelector('#df-11b80f0f-1da4-4b79-9b3a-b5223f7afb43 button.colab-df-convert');\n",
              "        buttonEl.style.display =\n",
              "          google.colab.kernel.accessAllowed ? 'block' : 'none';\n",
              "\n",
              "        async function convertToInteractive(key) {\n",
              "          const element = document.querySelector('#df-11b80f0f-1da4-4b79-9b3a-b5223f7afb43');\n",
              "          const dataTable =\n",
              "            await google.colab.kernel.invokeFunction('convertToInteractive',\n",
              "                                                     [key], {});\n",
              "          if (!dataTable) return;\n",
              "\n",
              "          const docLinkHtml = 'Like what you see? Visit the ' +\n",
              "            '<a target=\"_blank\" href=https://colab.research.google.com/notebooks/data_table.ipynb>data table notebook</a>'\n",
              "            + ' to learn more about interactive tables.';\n",
              "          element.innerHTML = '';\n",
              "          dataTable['output_type'] = 'display_data';\n",
              "          await google.colab.output.renderOutput(dataTable, element);\n",
              "          const docLink = document.createElement('div');\n",
              "          docLink.innerHTML = docLinkHtml;\n",
              "          element.appendChild(docLink);\n",
              "        }\n",
              "      </script>\n",
              "    </div>\n",
              "  </div>\n",
              "  "
            ],
            "text/plain": [
              "     id  ... availability_365\n",
              "0  2539  ...              365\n",
              "1  2595  ...              355\n",
              "2  3647  ...              365\n",
              "3  3831  ...              194\n",
              "4  5022  ...                0\n",
              "\n",
              "[5 rows x 16 columns]"
            ]
          },
          "metadata": {},
          "execution_count": 4
        }
      ]
    },
    {
      "cell_type": "code",
      "source": [
        "df.info()"
      ],
      "metadata": {
        "colab": {
          "base_uri": "https://localhost:8080/"
        },
        "id": "m8KsDp5nzgMi",
        "outputId": "1312f559-5885-4889-a059-61576f18296e"
      },
      "execution_count": 5,
      "outputs": [
        {
          "output_type": "stream",
          "name": "stdout",
          "text": [
            "<class 'pandas.core.frame.DataFrame'>\n",
            "RangeIndex: 48895 entries, 0 to 48894\n",
            "Data columns (total 16 columns):\n",
            " #   Column                          Non-Null Count  Dtype  \n",
            "---  ------                          --------------  -----  \n",
            " 0   id                              48895 non-null  int64  \n",
            " 1   name                            48879 non-null  object \n",
            " 2   host_id                         48895 non-null  int64  \n",
            " 3   host_name                       48874 non-null  object \n",
            " 4   neighbourhood_group             48895 non-null  object \n",
            " 5   neighbourhood                   48895 non-null  object \n",
            " 6   latitude                        48895 non-null  float64\n",
            " 7   longitude                       48895 non-null  float64\n",
            " 8   room_type                       48895 non-null  object \n",
            " 9   price                           48895 non-null  int64  \n",
            " 10  minimum_nights                  48895 non-null  int64  \n",
            " 11  number_of_reviews               48895 non-null  int64  \n",
            " 12  last_review                     38843 non-null  object \n",
            " 13  reviews_per_month               38843 non-null  float64\n",
            " 14  calculated_host_listings_count  48895 non-null  int64  \n",
            " 15  availability_365                48895 non-null  int64  \n",
            "dtypes: float64(3), int64(7), object(6)\n",
            "memory usage: 6.0+ MB\n"
          ]
        }
      ]
    },
    {
      "cell_type": "code",
      "source": [
        "df.describe()"
      ],
      "metadata": {
        "colab": {
          "base_uri": "https://localhost:8080/",
          "height": 364
        },
        "id": "TyvaSrpfAbGr",
        "outputId": "f52a4093-5939-42a0-b482-b8a6548e660d"
      },
      "execution_count": 7,
      "outputs": [
        {
          "output_type": "execute_result",
          "data": {
            "text/html": [
              "\n",
              "  <div id=\"df-4a067978-f682-4341-af1a-b63ed4eaa1ef\">\n",
              "    <div class=\"colab-df-container\">\n",
              "      <div>\n",
              "<style scoped>\n",
              "    .dataframe tbody tr th:only-of-type {\n",
              "        vertical-align: middle;\n",
              "    }\n",
              "\n",
              "    .dataframe tbody tr th {\n",
              "        vertical-align: top;\n",
              "    }\n",
              "\n",
              "    .dataframe thead th {\n",
              "        text-align: right;\n",
              "    }\n",
              "</style>\n",
              "<table border=\"1\" class=\"dataframe\">\n",
              "  <thead>\n",
              "    <tr style=\"text-align: right;\">\n",
              "      <th></th>\n",
              "      <th>id</th>\n",
              "      <th>host_id</th>\n",
              "      <th>latitude</th>\n",
              "      <th>longitude</th>\n",
              "      <th>price</th>\n",
              "      <th>minimum_nights</th>\n",
              "      <th>number_of_reviews</th>\n",
              "      <th>reviews_per_month</th>\n",
              "      <th>calculated_host_listings_count</th>\n",
              "      <th>availability_365</th>\n",
              "    </tr>\n",
              "  </thead>\n",
              "  <tbody>\n",
              "    <tr>\n",
              "      <th>count</th>\n",
              "      <td>4.889500e+04</td>\n",
              "      <td>4.889500e+04</td>\n",
              "      <td>48895.000000</td>\n",
              "      <td>48895.000000</td>\n",
              "      <td>48895.000000</td>\n",
              "      <td>48895.000000</td>\n",
              "      <td>48895.000000</td>\n",
              "      <td>38843.000000</td>\n",
              "      <td>48895.000000</td>\n",
              "      <td>48895.000000</td>\n",
              "    </tr>\n",
              "    <tr>\n",
              "      <th>mean</th>\n",
              "      <td>1.901714e+07</td>\n",
              "      <td>6.762001e+07</td>\n",
              "      <td>40.728949</td>\n",
              "      <td>-73.952170</td>\n",
              "      <td>152.720687</td>\n",
              "      <td>7.029962</td>\n",
              "      <td>23.274466</td>\n",
              "      <td>1.373221</td>\n",
              "      <td>7.143982</td>\n",
              "      <td>112.781327</td>\n",
              "    </tr>\n",
              "    <tr>\n",
              "      <th>std</th>\n",
              "      <td>1.098311e+07</td>\n",
              "      <td>7.861097e+07</td>\n",
              "      <td>0.054530</td>\n",
              "      <td>0.046157</td>\n",
              "      <td>240.154170</td>\n",
              "      <td>20.510550</td>\n",
              "      <td>44.550582</td>\n",
              "      <td>1.680442</td>\n",
              "      <td>32.952519</td>\n",
              "      <td>131.622289</td>\n",
              "    </tr>\n",
              "    <tr>\n",
              "      <th>min</th>\n",
              "      <td>2.539000e+03</td>\n",
              "      <td>2.438000e+03</td>\n",
              "      <td>40.499790</td>\n",
              "      <td>-74.244420</td>\n",
              "      <td>0.000000</td>\n",
              "      <td>1.000000</td>\n",
              "      <td>0.000000</td>\n",
              "      <td>0.010000</td>\n",
              "      <td>1.000000</td>\n",
              "      <td>0.000000</td>\n",
              "    </tr>\n",
              "    <tr>\n",
              "      <th>25%</th>\n",
              "      <td>9.471945e+06</td>\n",
              "      <td>7.822033e+06</td>\n",
              "      <td>40.690100</td>\n",
              "      <td>-73.983070</td>\n",
              "      <td>69.000000</td>\n",
              "      <td>1.000000</td>\n",
              "      <td>1.000000</td>\n",
              "      <td>0.190000</td>\n",
              "      <td>1.000000</td>\n",
              "      <td>0.000000</td>\n",
              "    </tr>\n",
              "    <tr>\n",
              "      <th>50%</th>\n",
              "      <td>1.967728e+07</td>\n",
              "      <td>3.079382e+07</td>\n",
              "      <td>40.723070</td>\n",
              "      <td>-73.955680</td>\n",
              "      <td>106.000000</td>\n",
              "      <td>3.000000</td>\n",
              "      <td>5.000000</td>\n",
              "      <td>0.720000</td>\n",
              "      <td>1.000000</td>\n",
              "      <td>45.000000</td>\n",
              "    </tr>\n",
              "    <tr>\n",
              "      <th>75%</th>\n",
              "      <td>2.915218e+07</td>\n",
              "      <td>1.074344e+08</td>\n",
              "      <td>40.763115</td>\n",
              "      <td>-73.936275</td>\n",
              "      <td>175.000000</td>\n",
              "      <td>5.000000</td>\n",
              "      <td>24.000000</td>\n",
              "      <td>2.020000</td>\n",
              "      <td>2.000000</td>\n",
              "      <td>227.000000</td>\n",
              "    </tr>\n",
              "    <tr>\n",
              "      <th>max</th>\n",
              "      <td>3.648724e+07</td>\n",
              "      <td>2.743213e+08</td>\n",
              "      <td>40.913060</td>\n",
              "      <td>-73.712990</td>\n",
              "      <td>10000.000000</td>\n",
              "      <td>1250.000000</td>\n",
              "      <td>629.000000</td>\n",
              "      <td>58.500000</td>\n",
              "      <td>327.000000</td>\n",
              "      <td>365.000000</td>\n",
              "    </tr>\n",
              "  </tbody>\n",
              "</table>\n",
              "</div>\n",
              "      <button class=\"colab-df-convert\" onclick=\"convertToInteractive('df-4a067978-f682-4341-af1a-b63ed4eaa1ef')\"\n",
              "              title=\"Convert this dataframe to an interactive table.\"\n",
              "              style=\"display:none;\">\n",
              "        \n",
              "  <svg xmlns=\"http://www.w3.org/2000/svg\" height=\"24px\"viewBox=\"0 0 24 24\"\n",
              "       width=\"24px\">\n",
              "    <path d=\"M0 0h24v24H0V0z\" fill=\"none\"/>\n",
              "    <path d=\"M18.56 5.44l.94 2.06.94-2.06 2.06-.94-2.06-.94-.94-2.06-.94 2.06-2.06.94zm-11 1L8.5 8.5l.94-2.06 2.06-.94-2.06-.94L8.5 2.5l-.94 2.06-2.06.94zm10 10l.94 2.06.94-2.06 2.06-.94-2.06-.94-.94-2.06-.94 2.06-2.06.94z\"/><path d=\"M17.41 7.96l-1.37-1.37c-.4-.4-.92-.59-1.43-.59-.52 0-1.04.2-1.43.59L10.3 9.45l-7.72 7.72c-.78.78-.78 2.05 0 2.83L4 21.41c.39.39.9.59 1.41.59.51 0 1.02-.2 1.41-.59l7.78-7.78 2.81-2.81c.8-.78.8-2.07 0-2.86zM5.41 20L4 18.59l7.72-7.72 1.47 1.35L5.41 20z\"/>\n",
              "  </svg>\n",
              "      </button>\n",
              "      \n",
              "  <style>\n",
              "    .colab-df-container {\n",
              "      display:flex;\n",
              "      flex-wrap:wrap;\n",
              "      gap: 12px;\n",
              "    }\n",
              "\n",
              "    .colab-df-convert {\n",
              "      background-color: #E8F0FE;\n",
              "      border: none;\n",
              "      border-radius: 50%;\n",
              "      cursor: pointer;\n",
              "      display: none;\n",
              "      fill: #1967D2;\n",
              "      height: 32px;\n",
              "      padding: 0 0 0 0;\n",
              "      width: 32px;\n",
              "    }\n",
              "\n",
              "    .colab-df-convert:hover {\n",
              "      background-color: #E2EBFA;\n",
              "      box-shadow: 0px 1px 2px rgba(60, 64, 67, 0.3), 0px 1px 3px 1px rgba(60, 64, 67, 0.15);\n",
              "      fill: #174EA6;\n",
              "    }\n",
              "\n",
              "    [theme=dark] .colab-df-convert {\n",
              "      background-color: #3B4455;\n",
              "      fill: #D2E3FC;\n",
              "    }\n",
              "\n",
              "    [theme=dark] .colab-df-convert:hover {\n",
              "      background-color: #434B5C;\n",
              "      box-shadow: 0px 1px 3px 1px rgba(0, 0, 0, 0.15);\n",
              "      filter: drop-shadow(0px 1px 2px rgba(0, 0, 0, 0.3));\n",
              "      fill: #FFFFFF;\n",
              "    }\n",
              "  </style>\n",
              "\n",
              "      <script>\n",
              "        const buttonEl =\n",
              "          document.querySelector('#df-4a067978-f682-4341-af1a-b63ed4eaa1ef button.colab-df-convert');\n",
              "        buttonEl.style.display =\n",
              "          google.colab.kernel.accessAllowed ? 'block' : 'none';\n",
              "\n",
              "        async function convertToInteractive(key) {\n",
              "          const element = document.querySelector('#df-4a067978-f682-4341-af1a-b63ed4eaa1ef');\n",
              "          const dataTable =\n",
              "            await google.colab.kernel.invokeFunction('convertToInteractive',\n",
              "                                                     [key], {});\n",
              "          if (!dataTable) return;\n",
              "\n",
              "          const docLinkHtml = 'Like what you see? Visit the ' +\n",
              "            '<a target=\"_blank\" href=https://colab.research.google.com/notebooks/data_table.ipynb>data table notebook</a>'\n",
              "            + ' to learn more about interactive tables.';\n",
              "          element.innerHTML = '';\n",
              "          dataTable['output_type'] = 'display_data';\n",
              "          await google.colab.output.renderOutput(dataTable, element);\n",
              "          const docLink = document.createElement('div');\n",
              "          docLink.innerHTML = docLinkHtml;\n",
              "          element.appendChild(docLink);\n",
              "        }\n",
              "      </script>\n",
              "    </div>\n",
              "  </div>\n",
              "  "
            ],
            "text/plain": [
              "                 id  ...  availability_365\n",
              "count  4.889500e+04  ...      48895.000000\n",
              "mean   1.901714e+07  ...        112.781327\n",
              "std    1.098311e+07  ...        131.622289\n",
              "min    2.539000e+03  ...          0.000000\n",
              "25%    9.471945e+06  ...          0.000000\n",
              "50%    1.967728e+07  ...         45.000000\n",
              "75%    2.915218e+07  ...        227.000000\n",
              "max    3.648724e+07  ...        365.000000\n",
              "\n",
              "[8 rows x 10 columns]"
            ]
          },
          "metadata": {},
          "execution_count": 7
        }
      ]
    },
    {
      "cell_type": "markdown",
      "source": [
        "### Null Values"
      ],
      "metadata": {
        "id": "tPJVmy0lIfYB"
      }
    },
    {
      "cell_type": "code",
      "source": [
        "df.isnull().sum()"
      ],
      "metadata": {
        "colab": {
          "base_uri": "https://localhost:8080/"
        },
        "id": "kzxl3D0-Ihga",
        "outputId": "77ab3545-d724-402f-91ee-1f894e1c63d7"
      },
      "execution_count": 8,
      "outputs": [
        {
          "output_type": "execute_result",
          "data": {
            "text/plain": [
              "id                                    0\n",
              "name                                 16\n",
              "host_id                               0\n",
              "host_name                            21\n",
              "neighbourhood_group                   0\n",
              "neighbourhood                         0\n",
              "latitude                              0\n",
              "longitude                             0\n",
              "room_type                             0\n",
              "price                                 0\n",
              "minimum_nights                        0\n",
              "number_of_reviews                     0\n",
              "last_review                       10052\n",
              "reviews_per_month                 10052\n",
              "calculated_host_listings_count        0\n",
              "availability_365                      0\n",
              "dtype: int64"
            ]
          },
          "metadata": {},
          "execution_count": 8
        }
      ]
    },
    {
      "cell_type": "code",
      "source": [
        "#replacing all NaN values\n",
        "df.fillna({'reviews_per_month':0}, inplace=True)\n",
        "df.fillna({'last_review':0}, inplace=True)\n",
        "df.fillna({'host_name':'unknown_host_name'}, inplace=True)\n",
        "df.fillna({'name':'unknown_name'}, inplace=True)\n",
        "\n",
        "#examing changes\n",
        "df.isnull().sum()"
      ],
      "metadata": {
        "colab": {
          "base_uri": "https://localhost:8080/"
        },
        "id": "qwvrwQwiInCB",
        "outputId": "9b70b650-9b17-463a-e2bc-65e20383a2f9"
      },
      "execution_count": 9,
      "outputs": [
        {
          "output_type": "execute_result",
          "data": {
            "text/plain": [
              "id                                0\n",
              "name                              0\n",
              "host_id                           0\n",
              "host_name                         0\n",
              "neighbourhood_group               0\n",
              "neighbourhood                     0\n",
              "latitude                          0\n",
              "longitude                         0\n",
              "room_type                         0\n",
              "price                             0\n",
              "minimum_nights                    0\n",
              "number_of_reviews                 0\n",
              "last_review                       0\n",
              "reviews_per_month                 0\n",
              "calculated_host_listings_count    0\n",
              "availability_365                  0\n",
              "dtype: int64"
            ]
          },
          "metadata": {},
          "execution_count": 9
        }
      ]
    },
    {
      "cell_type": "markdown",
      "source": [
        "### Removing unnecessary data"
      ],
      "metadata": {
        "id": "LCEBn6mLIwMY"
      }
    },
    {
      "cell_type": "code",
      "source": [
        "df.drop(['id','reviews_per_month','last_review'], axis=1, inplace=True)\n"
      ],
      "metadata": {
        "id": "FnqgbCAKIskp"
      },
      "execution_count": 10,
      "outputs": []
    },
    {
      "cell_type": "markdown",
      "source": [
        "##  What can we learn about different hosts and areas?"
      ],
      "metadata": {
        "id": "E3kseBbtJXSq"
      }
    },
    {
      "cell_type": "code",
      "source": [
        "# nghbrhd_grp counts (it shows which ngh_grp has highest hosts available)\n",
        "\n",
        "\n",
        "df_nghGrp_host = df.groupby(['neighbourhood_group'])['host_id'].count().sort_values(ascending = False).to_frame(name ='Total Airbnb Hosts').reset_index()\n",
        "print(df_nghGrp_host,'\\n\\n\\n')\n",
        "\n",
        "\n",
        "# Visualization\n",
        "plt.figure(figsize=(10,6))\n",
        "plt.bar(df_nghGrp_host['neighbourhood_group'], height = df_nghGrp_host['Total Airbnb Hosts'],width = 0.8)\n",
        "plt.show()"
      ],
      "metadata": {
        "colab": {
          "base_uri": "https://localhost:8080/",
          "height": 538
        },
        "id": "0uhUT1biJZGz",
        "outputId": "c162164e-6b39-40ea-c28c-235519d59224"
      },
      "execution_count": 11,
      "outputs": [
        {
          "output_type": "stream",
          "name": "stdout",
          "text": [
            "  neighbourhood_group  Total Airbnb Hosts\n",
            "0           Manhattan               21661\n",
            "1            Brooklyn               20104\n",
            "2              Queens                5666\n",
            "3               Bronx                1091\n",
            "4       Staten Island                 373 \n",
            "\n",
            "\n",
            "\n"
          ]
        },
        {
          "output_type": "display_data",
          "data": {
            "image/png": "[encoded data removed]",
            "text/plain": [
              "<Figure size 720x432 with 1 Axes>"
            ]
          },
          "metadata": {
            "needs_background": "light"
          }
        }
      ]
    },
    {
      "cell_type": "code",
      "source": [
        "# Using pie chart\n",
        "\n",
        "hosts = df_nghGrp_host['Total Airbnb Hosts']\n",
        "\n",
        "ngh_grp = df_nghGrp_host['neighbourhood_group']\n",
        "\n",
        "\n",
        "plt.figure(figsize=(10,6))\n",
        "plt.pie(hosts,labels = ngh_grp,autopct='%1.1f%%')\n",
        "plt.axis('equal')\n",
        "plt.show()"
      ],
      "metadata": {
        "colab": {
          "base_uri": "https://localhost:8080/",
          "height": 357
        },
        "id": "imlJtQJgJsvZ",
        "outputId": "49370655-0001-4ef5-9225-7e4dd56f9516"
      },
      "execution_count": 12,
      "outputs": [
        {
          "output_type": "display_data",
          "data": {
            "image/png": "[encoded data removed]",
            "text/plain": [
              "<Figure size 720x432 with 1 Axes>"
            ]
          },
          "metadata": {}
        }
      ]
    },
    {
      "cell_type": "markdown",
      "source": [
        "### approximately 85% of the hosts are in **Manhattan & Brooklyn**\n",
        "### Staten Island has less than 1% hosts\n",
        "\n",
        "---"
      ],
      "metadata": {
        "id": "YbgjHkg1J4WJ"
      }
    },
    {
      "cell_type": "markdown",
      "source": [
        "## What can we learn from predictions? (ex: locations, prices, reviews, etc)"
      ],
      "metadata": {
        "id": "8Helg2NBkohA"
      }
    },
    {
      "cell_type": "code",
      "source": [
        "# Areas v/s number of reviews (it shows which ngh_grp has highest reviews)\n",
        "\n",
        "\n",
        "df_nghGrp_num_rvws = df.groupby(['neighbourhood_group'])['number_of_reviews'].sum().sort_values(ascending = False).to_frame(name ='Total Reviews').reset_index()\n",
        "print(df_nghGrp_num_rvws,'\\n\\n\\n')\n",
        "\n",
        "# visualization\n",
        "plt.rcParams['figure.figsize'] = (8, 5)\n",
        "plt.bar(df_nghGrp_num_rvws['neighbourhood_group'], height = df_nghGrp_num_rvws['Total Reviews'],width = 0.8 )\n",
        "plt.show()\n"
      ],
      "metadata": {
        "colab": {
          "base_uri": "https://localhost:8080/",
          "height": 484
        },
        "id": "I3S1PGMxkpyI",
        "outputId": "fe730eb3-f5c2-469e-bd71-ca58045f78ec"
      },
      "execution_count": 13,
      "outputs": [
        {
          "output_type": "stream",
          "name": "stdout",
          "text": [
            "  neighbourhood_group  Total Reviews\n",
            "0            Brooklyn         486574\n",
            "1           Manhattan         454569\n",
            "2              Queens         156950\n",
            "3               Bronx          28371\n",
            "4       Staten Island          11541 \n",
            "\n",
            "\n",
            "\n"
          ]
        },
        {
          "output_type": "display_data",
          "data": {
            "image/png": "[encoded data removed]",
            "text/plain": [
              "<Figure size 576x360 with 1 Axes>"
            ]
          },
          "metadata": {
            "needs_background": "light"
          }
        }
      ]
    },
    {
      "cell_type": "markdown",
      "source": [
        "### **Brooklyn & Manhattan** are the most reviwed areas (more popular)\n",
        "### whereas **Staten Is & Bronx** are at the bottom (least popular)\n",
        "---"
      ],
      "metadata": {
        "id": "OzVyB4Yqk33i"
      }
    },
    {
      "cell_type": "code",
      "source": [
        "# Areas v/s price\n",
        "\n",
        "df_nghgrp_price = df.groupby('neighbourhood_group')['price'].mean().sort_values(ascending = False).to_frame(name ='Mean Price').reset_index()\n",
        "print(df_nghgrp_price,'\\n\\n\\n')\n",
        "\n",
        "plt.bar(df_nghgrp_price['neighbourhood_group'],df_nghgrp_price['Mean Price'], width = 0.8)\n",
        "plt.show()\n"
      ],
      "metadata": {
        "colab": {
          "base_uri": "https://localhost:8080/",
          "height": 484
        },
        "id": "1A0LygDNlYRy",
        "outputId": "5d776f07-454a-47c2-aad7-2e128d88596d"
      },
      "execution_count": 14,
      "outputs": [
        {
          "output_type": "stream",
          "name": "stdout",
          "text": [
            "  neighbourhood_group  Mean Price\n",
            "0           Manhattan  196.875814\n",
            "1            Brooklyn  124.383207\n",
            "2       Staten Island  114.812332\n",
            "3              Queens   99.517649\n",
            "4               Bronx   87.496792 \n",
            "\n",
            "\n",
            "\n"
          ]
        },
        {
          "output_type": "display_data",
          "data": {
            "image/png": "[encoded data removed]",
            "text/plain": [
              "<Figure size 576x360 with 1 Axes>"
            ]
          },
          "metadata": {
            "needs_background": "light"
          }
        }
      ]
    },
    {
      "cell_type": "markdown",
      "source": [
        "### Manhattan is the most expensive area\n",
        "### whereas **Bronx** is the cheapest\n",
        "---"
      ],
      "metadata": {
        "id": "lpwNS5E9lfVJ"
      }
    },
    {
      "cell_type": "code",
      "source": [
        "# Areas v/s Availability\n",
        "\n",
        "df_nghGrp_avlbl  = df.groupby(['neighbourhood_group'])['availability_365'].mean().sort_values(ascending = False).to_frame(name ='Mean Availability').reset_index()\n",
        "\n",
        "print(df_nghGrp_avlbl,'\\n\\n\\n')\n",
        "\n",
        "plt.bar(df_nghGrp_avlbl['neighbourhood_group'],df_nghGrp_avlbl['Mean Availability'], width = 0.8)\n",
        "plt.show()\n"
      ],
      "metadata": {
        "colab": {
          "base_uri": "https://localhost:8080/",
          "height": 484
        },
        "id": "RIWBEFj-s-q3",
        "outputId": "5042b60e-52a4-455e-cce2-f6cb032ecba2"
      },
      "execution_count": 15,
      "outputs": [
        {
          "output_type": "stream",
          "name": "stdout",
          "text": [
            "  neighbourhood_group  Mean Availability\n",
            "0       Staten Island         199.678284\n",
            "1               Bronx         165.758937\n",
            "2              Queens         144.451818\n",
            "3           Manhattan         111.979410\n",
            "4            Brooklyn         100.232292 \n",
            "\n",
            "\n",
            "\n"
          ]
        },
        {
          "output_type": "display_data",
          "data": {
            "image/png": "[encoded data removed]",
            "text/plain": [
              "<Figure size 576x360 with 1 Axes>"
            ]
          },
          "metadata": {
            "needs_background": "light"
          }
        }
      ]
    },
    {
      "cell_type": "markdown",
      "source": [
        "### In terms of availability **Staten Island** is at the top (Staten Is. is also the least reviwed, that's why availability is not the issue here)\n",
        "### whereas **Manhattan & Brooklyn** are the busiest\n",
        "---"
      ],
      "metadata": {
        "id": "kRl2PZ6WtiRj"
      }
    },
    {
      "cell_type": "code",
      "source": [
        "# price v/s numbr of reviews\n",
        "\n",
        "df_price_no_of_rvws = df.groupby(['price'])['number_of_reviews'].mean().to_frame(name ='Avg Reviews').reset_index()\n",
        "print(df_price_no_of_rvws,'\\n\\n\\n')\n",
        "\n",
        "# Visualization\n",
        "\n",
        "plt.figure(figsize=(7,7))\n",
        "plt.scatter(df_price_no_of_rvws['price'],df_price_no_of_rvws['Avg Reviews'])\n",
        "plt.show()\n"
      ],
      "metadata": {
        "colab": {
          "base_uri": "https://localhost:8080/",
          "height": 737
        },
        "id": "fU0AXcgbtG7p",
        "outputId": "22e7e48b-6844-474d-d493-9f3cad2dc581"
      },
      "execution_count": 16,
      "outputs": [
        {
          "output_type": "stream",
          "name": "stdout",
          "text": [
            "     price  Avg Reviews\n",
            "0        0    34.272727\n",
            "1       10    14.176471\n",
            "2       11    37.666667\n",
            "3       12     2.000000\n",
            "4       13     9.000000\n",
            "..     ...          ...\n",
            "669   7703     0.000000\n",
            "670   8000     1.000000\n",
            "671   8500     2.000000\n",
            "672   9999     2.333333\n",
            "673  10000     2.333333\n",
            "\n",
            "[674 rows x 2 columns] \n",
            "\n",
            "\n",
            "\n"
          ]
        },
        {
          "output_type": "display_data",
          "data": {
            "image/png": "[encoded data removed]",
            "text/plain": [
              "<Figure size 504x504 with 1 Axes>"
            ]
          },
          "metadata": {
            "needs_background": "light"
          }
        }
      ]
    },
    {
      "cell_type": "markdown",
      "source": [
        "### From the above Analysis we can say that most people prefer to stay in place where price is less\n",
        "\n",
        "---"
      ],
      "metadata": {
        "id": "z5bPV2Y4tfyI"
      }
    },
    {
      "cell_type": "markdown",
      "source": [
        "##  Which hosts are the busiest and why? <br>"
      ],
      "metadata": {
        "id": "n8isyLn9SL_S"
      }
    },
    {
      "cell_type": "code",
      "source": [
        "# which host has maximum listings\n",
        "\n",
        "df_hosts_ids_counts = df.groupby(['host_id','host_name'])['calculated_host_listings_count'].max().sort_values(ascending = False).head(10)\n",
        "df_hosts_ids_counts = df_hosts_ids_counts.to_frame(name ='total listings').reset_index()\n",
        "print(df_hosts_ids_counts,'\\n\\n\\n')\n",
        "\n",
        "plt.rcParams['figure.figsize'] = (15, 5)\n",
        "plt.bar(df_hosts_ids_counts['host_name'],df_hosts_ids_counts['total listings'])\n",
        "plt.show()\n"
      ],
      "metadata": {
        "colab": {
          "base_uri": "https://localhost:8080/",
          "height": 574
        },
        "id": "TnJvNC-cSPRB",
        "outputId": "1d2e3114-a9d1-4885-d2b6-9bf541a6e78b"
      },
      "execution_count": 17,
      "outputs": [
        {
          "output_type": "stream",
          "name": "stdout",
          "text": [
            "     host_id          host_name  total listings\n",
            "0  219517861       Sonder (NYC)             327\n",
            "1  107434423         Blueground             232\n",
            "2   30283594               Kara             121\n",
            "3  137358866             Kazuya             103\n",
            "4   16098958     Jeremy & Laura              96\n",
            "5   12243051             Sonder              96\n",
            "6   61391963  Corporate Housing              91\n",
            "7   22541573                Ken              87\n",
            "8  200380610            Pranjal              65\n",
            "9    7503643               Vida              52 \n",
            "\n",
            "\n",
            "\n"
          ]
        },
        {
          "output_type": "display_data",
          "data": {
            "image/png": "[encoded data removed]",
            "text/plain": [
              "<Figure size 1080x360 with 1 Axes>"
            ]
          },
          "metadata": {
            "needs_background": "light"
          }
        }
      ]
    },
    {
      "cell_type": "code",
      "source": [
        "# Comparison between number of listings and Average Reviews\n",
        "\n",
        "\n",
        "df_hosts_rvws = df.groupby(['host_id','host_name'])['number_of_reviews'].mean().sort_values(ascending = False).to_frame(name ='mean reviews').reset_index()\n",
        "\n",
        "\n",
        "# now join the two\n",
        "\n",
        "df_host_listing_rvws = pd.merge(df_hosts_ids_counts[['host_id','host_name','total listings']],df_hosts_rvws[['host_id','mean reviews']],how = 'inner', on = 'host_id')\n",
        "print(df_host_listing_rvws,'\\n\\n\\n')\n",
        "\n",
        "\n",
        "# visualization\n",
        "\n",
        "\n",
        "plt.rcParams['figure.figsize'] = (20, 5)\n",
        "\n",
        "\n",
        "width = 0.4\n",
        "\n",
        "x = df_host_listing_rvws['host_name']\n",
        "total_listings = df_host_listing_rvws['total listings']\n",
        "mean_reviews = df_host_listing_rvws['mean reviews']\n",
        "\n",
        "x_axis = np.arange(len(x))\n",
        "\n",
        "plt.bar(x_axis - 0.2, total_listings, width, label = 'total listings')\n",
        "plt.bar(x_axis + 0.2, mean_reviews, width, label = 'mean reviews')\n",
        "\n",
        "plt.xticks(x_axis, x)\n",
        "plt.title(\"Comparison of Host listings with their Mean Reviews\")\n",
        "plt.legend()\n",
        "plt.show()\n",
        "\n"
      ],
      "metadata": {
        "colab": {
          "base_uri": "https://localhost:8080/",
          "height": 590
        },
        "id": "Ft9IVQgGS4tl",
        "outputId": "fe844185-2e5e-4650-9c5a-68e2cc5b8aae"
      },
      "execution_count": 18,
      "outputs": [
        {
          "output_type": "stream",
          "name": "stdout",
          "text": [
            "     host_id          host_name  total listings  mean reviews\n",
            "0  219517861       Sonder (NYC)             327      3.917431\n",
            "1  107434423         Blueground             232      0.125000\n",
            "2   30283594               Kara             121      0.537190\n",
            "3  137358866             Kazuya             103      0.844660\n",
            "4   16098958     Jeremy & Laura              96      1.437500\n",
            "5   12243051             Sonder              96      0.447917\n",
            "6   61391963  Corporate Housing              91      4.582418\n",
            "7   22541573                Ken              87      0.632184\n",
            "8  200380610            Pranjal              65      0.015385\n",
            "9    7503643               Vida              52      4.653846 \n",
            "\n",
            "\n",
            "\n"
          ]
        },
        {
          "output_type": "display_data",
          "data": {
            "image/png": "[encoded data removed]",
            "text/plain": [
              "<Figure size 1440x360 with 1 Axes>"
            ]
          },
          "metadata": {
            "needs_background": "light"
          }
        }
      ]
    },
    {
      "cell_type": "markdown",
      "source": [
        "### Note - More number of Airbnb listings not resulting into more popularity among guests.\n",
        "---"
      ],
      "metadata": {
        "id": "fcs6Am8_TEHn"
      }
    },
    {
      "cell_type": "code",
      "source": [
        "# busiest can be find by Mean of number of reviews\n",
        "\n",
        "df_hosts_rvws = df.groupby(['host_id','host_name'])['number_of_reviews'].mean().sort_values(ascending = False).head(10)\n",
        "df_hosts_rvws = df_hosts_rvws.to_frame(name ='mean reviews').reset_index()\n",
        "print(df_hosts_rvws,'\\n\\n\\n')\n",
        "\n",
        "\n",
        "plt.rcParams['figure.figsize'] = (20, 5)\n",
        "plt.bar(df_hosts_rvws['host_name'],df_hosts_rvws['mean reviews'], width = 0.5)\n",
        "plt.show()"
      ],
      "metadata": {
        "colab": {
          "base_uri": "https://localhost:8080/",
          "height": 574
        },
        "id": "QGgSQy2ZS_0P",
        "outputId": "69ad7e47-2745-4760-910e-6b15bc07edfb"
      },
      "execution_count": 19,
      "outputs": [
        {
          "output_type": "stream",
          "name": "stdout",
          "text": [
            "    host_id       host_name  mean reviews\n",
            "0  47621202            Dona    602.500000\n",
            "1   4734398              Jj    599.333333\n",
            "2   2369681           Carol    540.000000\n",
            "3  12949460             Asa    488.000000\n",
            "4    792159           Wanda    480.000000\n",
            "5  37312959            Maya    454.600000\n",
            "6   2321321           Lloyd    454.000000\n",
            "7    277379           Agnes    448.500000\n",
            "8    307962  Dennis & Naoko    441.000000\n",
            "9  97086824         Miss Dy    434.000000 \n",
            "\n",
            "\n",
            "\n"
          ]
        },
        {
          "output_type": "display_data",
          "data": {
            "image/png": "[encoded data removed]",
            "text/plain": [
              "<Figure size 1440x360 with 1 Axes>"
            ]
          },
          "metadata": {
            "needs_background": "light"
          }
        }
      ]
    },
    {
      "cell_type": "markdown",
      "source": [
        "## For all top hosts <br>\n",
        "### room types : private room or entire home/apartment <br>\n",
        "### location: Queens, Manhattan, Brooklyn\n",
        "### price: All the top hosts have prices less than 100 (except one)\n",
        "\n",
        "\n",
        "---\n",
        "\n"
      ],
      "metadata": {
        "id": "HvGRydeBTvFJ"
      }
    },
    {
      "cell_type": "markdown",
      "source": [
        "## Is there any noticeable difference of traffic among different areas and what could be the reason for it?\n",
        "\n"
      ],
      "metadata": {
        "id": "vA9NE8NfQLCa"
      }
    },
    {
      "cell_type": "code",
      "source": [
        "# variations in Traffic among different areas\n",
        "\n",
        "print(df_nghGrp_num_rvws,'\\n\\n\\n')\n",
        "\n",
        "# Visualization\n",
        "\n",
        "rvws = df_nghGrp_num_rvws['Total Reviews']\n",
        "\n",
        "ngh_grp = df_nghGrp_num_rvws['neighbourhood_group']\n",
        "\n",
        "\n",
        "plt.figure(figsize=(10,6))\n",
        "plt.pie(rvws, labels = ngh_grp, autopct='%1.1f%%')\n",
        "plt.axis('equal')\n",
        "plt.show()"
      ],
      "metadata": {
        "colab": {
          "base_uri": "https://localhost:8080/",
          "height": 521
        },
        "id": "WBYbc2TnQS7I",
        "outputId": "010bd78c-17c2-48a8-9d53-d3e8afc8e3c3"
      },
      "execution_count": 20,
      "outputs": [
        {
          "output_type": "stream",
          "name": "stdout",
          "text": [
            "  neighbourhood_group  Total Reviews\n",
            "0            Brooklyn         486574\n",
            "1           Manhattan         454569\n",
            "2              Queens         156950\n",
            "3               Bronx          28371\n",
            "4       Staten Island          11541 \n",
            "\n",
            "\n",
            "\n"
          ]
        },
        {
          "output_type": "display_data",
          "data": {
            "image/png": "[encoded data removed]",
            "text/plain": [
              "<Figure size 720x432 with 1 Axes>"
            ]
          },
          "metadata": {}
        }
      ]
    },
    {
      "cell_type": "markdown",
      "source": [
        "### **Brooklyn & Manhattan**  share 82%(approx) of the traffic\n",
        "### **Staten Is & Bronx** are the least popular among the Guests\n",
        "\n",
        "\n",
        "---\n",
        "\n"
      ],
      "metadata": {
        "id": "lhSKoNwHQfPG"
      }
    },
    {
      "cell_type": "markdown",
      "source": [
        "## Reasons\n",
        "\n",
        "\n",
        "\n",
        "*   Number of Hosts\n",
        "*   Availability\n",
        "*   Prices\n",
        "*   Types of Room\n",
        "\n"
      ],
      "metadata": {
        "id": "nHqSMbNqQioJ"
      }
    },
    {
      "cell_type": "code",
      "source": [
        "'''\n",
        "\n",
        "By joining the dataframes calcualted above,\n",
        "the variations in traffic can be analyzed\n",
        "\n",
        "'''\n",
        "\n",
        "result = pd.merge(df_nghGrp_num_rvws, df_nghGrp_host, how=\"inner\")\n",
        "\n",
        "result_avalb = pd.merge(result, df_nghGrp_avlbl, how=\"inner\")\n",
        "\n",
        "result_avalb_price = pd.merge(result_avalb, df_nghgrp_price, how=\"inner\")\n",
        "\n",
        "result_avalb_price"
      ],
      "metadata": {
        "colab": {
          "base_uri": "https://localhost:8080/",
          "height": 206
        },
        "id": "ecrF-o3zRGRS",
        "outputId": "ea28fb33-a64a-4ac7-97cd-2f3ca7aa1777"
      },
      "execution_count": 21,
      "outputs": [
        {
          "output_type": "execute_result",
          "data": {
            "text/html": [
              "\n",
              "  <div id=\"df-e120eb94-06ac-4303-ba5e-4e8e3defb1cd\">\n",
              "    <div class=\"colab-df-container\">\n",
              "      <div>\n",
              "<style scoped>\n",
              "    .dataframe tbody tr th:only-of-type {\n",
              "        vertical-align: middle;\n",
              "    }\n",
              "\n",
              "    .dataframe tbody tr th {\n",
              "        vertical-align: top;\n",
              "    }\n",
              "\n",
              "    .dataframe thead th {\n",
              "        text-align: right;\n",
              "    }\n",
              "</style>\n",
              "<table border=\"1\" class=\"dataframe\">\n",
              "  <thead>\n",
              "    <tr style=\"text-align: right;\">\n",
              "      <th></th>\n",
              "      <th>neighbourhood_group</th>\n",
              "      <th>Total Reviews</th>\n",
              "      <th>Total Airbnb Hosts</th>\n",
              "      <th>Mean Availability</th>\n",
              "      <th>Mean Price</th>\n",
              "    </tr>\n",
              "  </thead>\n",
              "  <tbody>\n",
              "    <tr>\n",
              "      <th>0</th>\n",
              "      <td>Brooklyn</td>\n",
              "      <td>486574</td>\n",
              "      <td>20104</td>\n",
              "      <td>100.232292</td>\n",
              "      <td>124.383207</td>\n",
              "    </tr>\n",
              "    <tr>\n",
              "      <th>1</th>\n",
              "      <td>Manhattan</td>\n",
              "      <td>454569</td>\n",
              "      <td>21661</td>\n",
              "      <td>111.979410</td>\n",
              "      <td>196.875814</td>\n",
              "    </tr>\n",
              "    <tr>\n",
              "      <th>2</th>\n",
              "      <td>Queens</td>\n",
              "      <td>156950</td>\n",
              "      <td>5666</td>\n",
              "      <td>144.451818</td>\n",
              "      <td>99.517649</td>\n",
              "    </tr>\n",
              "    <tr>\n",
              "      <th>3</th>\n",
              "      <td>Bronx</td>\n",
              "      <td>28371</td>\n",
              "      <td>1091</td>\n",
              "      <td>165.758937</td>\n",
              "      <td>87.496792</td>\n",
              "    </tr>\n",
              "    <tr>\n",
              "      <th>4</th>\n",
              "      <td>Staten Island</td>\n",
              "      <td>11541</td>\n",
              "      <td>373</td>\n",
              "      <td>199.678284</td>\n",
              "      <td>114.812332</td>\n",
              "    </tr>\n",
              "  </tbody>\n",
              "</table>\n",
              "</div>\n",
              "      <button class=\"colab-df-convert\" onclick=\"convertToInteractive('df-e120eb94-06ac-4303-ba5e-4e8e3defb1cd')\"\n",
              "              title=\"Convert this dataframe to an interactive table.\"\n",
              "              style=\"display:none;\">\n",
              "        \n",
              "  <svg xmlns=\"http://www.w3.org/2000/svg\" height=\"24px\"viewBox=\"0 0 24 24\"\n",
              "       width=\"24px\">\n",
              "    <path d=\"M0 0h24v24H0V0z\" fill=\"none\"/>\n",
              "    <path d=\"M18.56 5.44l.94 2.06.94-2.06 2.06-.94-2.06-.94-.94-2.06-.94 2.06-2.06.94zm-11 1L8.5 8.5l.94-2.06 2.06-.94-2.06-.94L8.5 2.5l-.94 2.06-2.06.94zm10 10l.94 2.06.94-2.06 2.06-.94-2.06-.94-.94-2.06-.94 2.06-2.06.94z\"/><path d=\"M17.41 7.96l-1.37-1.37c-.4-.4-.92-.59-1.43-.59-.52 0-1.04.2-1.43.59L10.3 9.45l-7.72 7.72c-.78.78-.78 2.05 0 2.83L4 21.41c.39.39.9.59 1.41.59.51 0 1.02-.2 1.41-.59l7.78-7.78 2.81-2.81c.8-.78.8-2.07 0-2.86zM5.41 20L4 18.59l7.72-7.72 1.47 1.35L5.41 20z\"/>\n",
              "  </svg>\n",
              "      </button>\n",
              "      \n",
              "  <style>\n",
              "    .colab-df-container {\n",
              "      display:flex;\n",
              "      flex-wrap:wrap;\n",
              "      gap: 12px;\n",
              "    }\n",
              "\n",
              "    .colab-df-convert {\n",
              "      background-color: #E8F0FE;\n",
              "      border: none;\n",
              "      border-radius: 50%;\n",
              "      cursor: pointer;\n",
              "      display: none;\n",
              "      fill: #1967D2;\n",
              "      height: 32px;\n",
              "      padding: 0 0 0 0;\n",
              "      width: 32px;\n",
              "    }\n",
              "\n",
              "    .colab-df-convert:hover {\n",
              "      background-color: #E2EBFA;\n",
              "      box-shadow: 0px 1px 2px rgba(60, 64, 67, 0.3), 0px 1px 3px 1px rgba(60, 64, 67, 0.15);\n",
              "      fill: #174EA6;\n",
              "    }\n",
              "\n",
              "    [theme=dark] .colab-df-convert {\n",
              "      background-color: #3B4455;\n",
              "      fill: #D2E3FC;\n",
              "    }\n",
              "\n",
              "    [theme=dark] .colab-df-convert:hover {\n",
              "      background-color: #434B5C;\n",
              "      box-shadow: 0px 1px 3px 1px rgba(0, 0, 0, 0.15);\n",
              "      filter: drop-shadow(0px 1px 2px rgba(0, 0, 0, 0.3));\n",
              "      fill: #FFFFFF;\n",
              "    }\n",
              "  </style>\n",
              "\n",
              "      <script>\n",
              "        const buttonEl =\n",
              "          document.querySelector('#df-e120eb94-06ac-4303-ba5e-4e8e3defb1cd button.colab-df-convert');\n",
              "        buttonEl.style.display =\n",
              "          google.colab.kernel.accessAllowed ? 'block' : 'none';\n",
              "\n",
              "        async function convertToInteractive(key) {\n",
              "          const element = document.querySelector('#df-e120eb94-06ac-4303-ba5e-4e8e3defb1cd');\n",
              "          const dataTable =\n",
              "            await google.colab.kernel.invokeFunction('convertToInteractive',\n",
              "                                                     [key], {});\n",
              "          if (!dataTable) return;\n",
              "\n",
              "          const docLinkHtml = 'Like what you see? Visit the ' +\n",
              "            '<a target=\"_blank\" href=https://colab.research.google.com/notebooks/data_table.ipynb>data table notebook</a>'\n",
              "            + ' to learn more about interactive tables.';\n",
              "          element.innerHTML = '';\n",
              "          dataTable['output_type'] = 'display_data';\n",
              "          await google.colab.output.renderOutput(dataTable, element);\n",
              "          const docLink = document.createElement('div');\n",
              "          docLink.innerHTML = docLinkHtml;\n",
              "          element.appendChild(docLink);\n",
              "        }\n",
              "      </script>\n",
              "    </div>\n",
              "  </div>\n",
              "  "
            ],
            "text/plain": [
              "  neighbourhood_group  Total Reviews  ...  Mean Availability  Mean Price\n",
              "0            Brooklyn         486574  ...         100.232292  124.383207\n",
              "1           Manhattan         454569  ...         111.979410  196.875814\n",
              "2              Queens         156950  ...         144.451818   99.517649\n",
              "3               Bronx          28371  ...         165.758937   87.496792\n",
              "4       Staten Island          11541  ...         199.678284  114.812332\n",
              "\n",
              "[5 rows x 5 columns]"
            ]
          },
          "metadata": {},
          "execution_count": 21
        }
      ]
    },
    {
      "cell_type": "markdown",
      "source": [
        "### Majority of the Hosts are located in Manhattan & Brooklyn that's why these areas has highest traffic\n",
        "### The average availability is least in these areas because of popularity among the Guests\n",
        "\n",
        "---\n",
        "\n",
        "\n",
        "\n",
        "---"
      ],
      "metadata": {
        "id": "lrzp91rxRNFm"
      }
    },
    {
      "cell_type": "code",
      "source": [
        "# neighbourhood grp and room types\n",
        "\n",
        "df_nghGrp_room_type = df.groupby(['neighbourhood_group','room_type'])['room_type'].count().sort_values(ascending = False)\n",
        "\n",
        "df_nghGrp_room_type = df_nghGrp_room_type.to_frame(name = 'count').reset_index()\n",
        "print(df_nghGrp_room_type,'\\n\\n\\n')\n",
        "\n",
        "# visualizing\n",
        "\n",
        "df_nghGrp_room_type.pivot(index= 'neighbourhood_group', columns='room_type', values='count').plot(kind='bar', figsize = (15,7))\n",
        "\n",
        "plt.title('neighbourhood grp v/s room types')\n",
        "plt.show()"
      ],
      "metadata": {
        "colab": {
          "base_uri": "https://localhost:8080/",
          "height": 860
        },
        "id": "Pata1VzURLuL",
        "outputId": "c7523b41-66ec-4732-852e-6f2351a166d0"
      },
      "execution_count": 22,
      "outputs": [
        {
          "output_type": "stream",
          "name": "stdout",
          "text": [
            "   neighbourhood_group        room_type  count\n",
            "0            Manhattan  Entire home/apt  13199\n",
            "1             Brooklyn     Private room  10132\n",
            "2             Brooklyn  Entire home/apt   9559\n",
            "3            Manhattan     Private room   7982\n",
            "4               Queens     Private room   3372\n",
            "5               Queens  Entire home/apt   2096\n",
            "6                Bronx     Private room    652\n",
            "7            Manhattan      Shared room    480\n",
            "8             Brooklyn      Shared room    413\n",
            "9                Bronx  Entire home/apt    379\n",
            "10              Queens      Shared room    198\n",
            "11       Staten Island     Private room    188\n",
            "12       Staten Island  Entire home/apt    176\n",
            "13               Bronx      Shared room     60\n",
            "14       Staten Island      Shared room      9 \n",
            "\n",
            "\n",
            "\n"
          ]
        },
        {
          "output_type": "display_data",
          "data": {
            "image/png": "[encoded data removed]",
            "text/plain": [
              "<Figure size 1080x504 with 1 Axes>"
            ]
          },
          "metadata": {
            "needs_background": "light"
          }
        }
      ]
    },
    {
      "cell_type": "code",
      "source": [
        "# most preferred room types (but these figures does not show the most offered room types)\n",
        "\n",
        "df_prfrd_room = df.groupby(['room_type'])['number_of_reviews'].sum().sort_values(ascending = False).to_frame(name = 'total_rvws').reset_index()\n",
        "\n",
        "print(df_prfrd_room,'\\n\\n\\n')\n",
        "\n",
        "\n",
        "# visualizing\n",
        "\n",
        "total_rvws = df_prfrd_room['total_rvws']\n",
        "room_type = df_prfrd_room['room_type']\n",
        "\n",
        "plt.figure(figsize=(10,6))\n",
        "plt.pie(total_rvws,labels = room_type,autopct='%1.1f%%')\n",
        "plt.axis('equal')\n",
        "plt.show()"
      ],
      "metadata": {
        "colab": {
          "base_uri": "https://localhost:8080/",
          "height": 492
        },
        "id": "RUO8L31_ReVu",
        "outputId": "7468e66c-0175-43d0-96ed-a731f45a7fcb"
      },
      "execution_count": 23,
      "outputs": [
        {
          "output_type": "stream",
          "name": "stdout",
          "text": [
            "         room_type  total_rvws\n",
            "0  Entire home/apt      580403\n",
            "1     Private room      538346\n",
            "2      Shared room       19256 \n",
            "\n",
            "\n",
            "\n"
          ]
        },
        {
          "output_type": "display_data",
          "data": {
            "image/png": "[encoded data removed]",
            "text/plain": [
              "<Figure size 720x432 with 1 Axes>"
            ]
          },
          "metadata": {}
        }
      ]
    },
    {
      "cell_type": "markdown",
      "source": [
        "### **Entire Home/apt and Private Room** shares 98% of the total reviews\n",
        "### Popularity of **Shared Room** is negligible in comparison to other two\n",
        "\n",
        "\n",
        "---\n",
        "\n"
      ],
      "metadata": {
        "id": "5YM6cuDvRj_I"
      }
    },
    {
      "cell_type": "markdown",
      "source": [
        "# Conclusion\n",
        "\n",
        "\n",
        "\n",
        "*   Number of Hosts available in a location affects the traffic - Areas where number of hosts are more have higher reviews or vice-versa\n",
        "\n",
        "*   Majority of Guests prefer to pay lesser price.\n",
        "\n",
        "*   Types of Room offered affects the traffic <br>\n",
        "(shared room type is the least popular among guests, whereas Private Room is preferred by more than half of the total Guests)\n",
        " \n",
        "* Areas where the availability of private rooms and entire  home/ apartment are maximum, the traffic is more.\n",
        "\n",
        "* For the top host category, more Airbnb listings are not \n",
        "resulting in more reviews."
      ],
      "metadata": {
        "id": "8drvoFmUR7Ow"
      }
    }
  ]
}